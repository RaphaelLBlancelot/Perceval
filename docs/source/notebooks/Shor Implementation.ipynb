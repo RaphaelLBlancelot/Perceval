{
 "cells": [
  {
   "cell_type": "markdown",
   "id": "c2f4fd6c",
   "metadata": {},
   "source": [
    "# Implementing Shor's algorithm in Perceval"
   ]
  },
  {
   "cell_type": "markdown",
   "id": "5162c9b8",
   "metadata": {},
   "source": [
    "This notebook presents a simulation in Perceval of a 4-qubit 12-modes optical circuit performing Shor's algorithm, based on Alberto Politi, Jonathan C.F. Matthews, and Jeremy L. O'brien. \"Shor’s quantum factoring algorithm on a photonic chip.\" Science 325.5945 (2009): 1221-1221. https://www.science.org/doi/10.1126/science.1173731"
   ]
  },
  {
   "cell_type": "markdown",
   "id": "f29e5abf",
   "metadata": {},
   "source": [
    "## Shor's algorithm"
   ]
  },
  {
   "cell_type": "markdown",
   "id": "5dd3a2a5",
   "metadata": {},
   "source": [
    "The purpose of Shor's algorithm is to find nontrivial factors of a given number $N$ in polynomial time, yielding an near-exponential speedup compared to state of the art classical algortihms.\n",
    "\n",
    "The main routine of Shor's algorithm consists in finding the order $r$ of a number $a \\in \\mathbb{Z}_N$, i.e. the smallest integer $r$ such that $a^r = 1 \\pmod N$.\n",
    "\n",
    "If the order of a randoly chosen $a$ which is coprime with $N$ is even, then $(a^{r/2} - 1)(a^{r/2} + 1) = k N$. If none of these factors are multiples of $N$, then $\\gcd(N, a^{r/2} - 1)$ and $\\gcd(N, a^{r/2} + 1)$ are nontrivial factors of $N$."
   ]
  },
  {
   "cell_type": "markdown",
   "id": "ff756302",
   "metadata": {},
   "source": [
    "## Preliminaries"
   ]
  },
  {
   "cell_type": "code",
   "execution_count": 1,
   "id": "8b013239",
   "metadata": {},
   "outputs": [
    {
     "name": "stdout",
     "output_type": "stream",
     "text": [
      "Python version: 3.9.11 (tags/v3.9.11:2de452f, Mar 16 2022, 14:33:45) [MSC v.1929 64 bit (AMD64)]\n"
     ]
    }
   ],
   "source": [
    "import sys\n",
    "print(\"Python version:\", sys.version)"
   ]
  },
  {
   "cell_type": "code",
   "execution_count": 2,
   "id": "55fe7a18",
   "metadata": {
    "scrolled": true
   },
   "outputs": [
    {
     "name": "stdout",
     "output_type": "stream",
     "text": [
      "Perceval version: 0.4.2.post3\n"
     ]
    }
   ],
   "source": [
    "from IPython import display\n",
    "from collections import Counter\n",
    "from tabulate import tabulate\n",
    "from tqdm.auto import tqdm\n",
    "\n",
    "import sympy as sp\n",
    "import numpy as np\n",
    "from scipy.optimize import minimize\n",
    "\n",
    "import perceval as pcvl\n",
    "import quandelibc as qc\n",
    "import perceval.lib.phys as phys\n",
    "\n",
    "print(\"Perceval version:\", pcvl.__version__)"
   ]
  },
  {
   "cell_type": "markdown",
   "id": "826377de",
   "metadata": {},
   "source": [
    "### Path encoding functions\n",
    "\n",
    "The following functions allow for conversion between the qubit and Fock state representations."
   ]
  },
  {
   "cell_type": "code",
   "execution_count": 3,
   "id": "cd2bbda8",
   "metadata": {},
   "outputs": [],
   "source": [
    "def toFockState(qubitState):\n",
    "    # path encoding\n",
    "    pe = {0:[1,0],  1:[0,1]}\n",
    "    return [0] + pe[qubitState[0]] + pe[qubitState[2]] + [0, 0] + pe[qubitState[1]] + pe[qubitState[3]] + [0]"
   ]
  },
  {
   "cell_type": "code",
   "execution_count": 4,
   "id": "55ee4ce8",
   "metadata": {},
   "outputs": [],
   "source": [
    "def toQubitState(fockState):\n",
    "    # qubit modes\n",
    "    x1 = [1, 2]\n",
    "    f1 = [3, 4]\n",
    "    x2 = [7, 8]\n",
    "    f2 = [9, 10]\n",
    "    # auxiliary modes\n",
    "    am1 = [0, 5]\n",
    "    am2 = [6, 11]\n",
    "    \n",
    "    # auxiliary modes\n",
    "    for i in am1 + am2:\n",
    "        if fockState[i]!=0:\n",
    "            return None\n",
    "    L=[]\n",
    "    # qubit modes\n",
    "    for q in [x1, x2, f1, f2]:\n",
    "        if fockState[q[0]]+fockState[q[1]] != 1:\n",
    "            return None\n",
    "        else:\n",
    "            L.append(fockState[q[1]])\n",
    "    return L"
   ]
  },
  {
   "cell_type": "code",
   "execution_count": 5,
   "id": "39b1c269",
   "metadata": {},
   "outputs": [],
   "source": [
    "def strState(state):\n",
    "    return str(pcvl.BasicState(state))"
   ]
  },
  {
   "cell_type": "markdown",
   "id": "016e2534",
   "metadata": {},
   "source": [
    "## The circuit"
   ]
  },
  {
   "cell_type": "markdown",
   "id": "01c60397",
   "metadata": {},
   "source": [
    "### Quantum circuit\n",
    "\n",
    "The quantum circuit has been optimized after choosing parameters $N = 15$ and $a = 2$, and aims to calculate $r=4$.\n",
    "It features 5 qubits labelled $x_0, x_1, x_2$ and $f_1, f_2$. Qubits $x_i$ and $f_1$ are initially in state $|0\\rangle$, and $f_2$ in state $|1\\rangle$.\n",
    "In the non-optimised Shor algorithm, qubits $x_i$ encode a binary number representing a pre-image of the Modular Exponentiation Function (MEF) $x \\mapsto a^x \\pmod N$, while qubits $f_i$ hold the image obtained after applying the MEF to qubits $x_i$. Applying the MEF when qubits $x_i$ hold a superposition of different pre-images (obtained with H gates on qubits $x_i$) allows to efficiently compute the order $r$ of parameter $a$ modulo $N$.\n",
    "\n",
    "The circuit consists of $\\mathsf{H}$ gates being first applied to each $x_i$ qubit, followed by $\\mathsf{CNOT}$ gates applied on $x_1, f_1$ and $x_2, f_2$ pairs, where $x_i$ are control qubits; finally the inverse $\\mathsf{QFT}$ algorithm is applied on qubits $x_i$.\n",
    "\n",
    "$\\mathsf{CNOT}$ gates on $x_i, f_i$ pairs ($x_i$ being the control) are implemented using $\\mathsf{H}$ and $\\mathsf{CZ}$ gates: the $\\mathsf{CZ}$ gate is sandwiched between two applications of $\\mathsf{H}$ on $f_i$.\n",
    "\n",
    "The input state of the circuit after optimisation is $|0\\rangle_{x_0}|0\\rangle_{x_1}|0\\rangle_{x_2}|0\\rangle_{f_1}|1\\rangle_{f_2}$.\n",
    "\n",
    "The expected output state is then $\\frac{1}{2} |0\\rangle_{x_0} \\otimes \\left ( |0\\rangle_{x_1}|0\\rangle_{f_1} + |1\\rangle_{x_1}|1\\rangle_{f_1} \\right ) \\otimes \\left ( |0\\rangle_{x_2}|1\\rangle_{f_2} + |1\\rangle_{x_2}|0\\rangle_{f_2} \\right )$."
   ]
  },
  {
   "cell_type": "markdown",
   "id": "b7b25cf5",
   "metadata": {},
   "source": [
    "### Photonic circuit\n",
    "\n",
    "The optical circuit from the result by Politi et al features twelve modes (ordered from 0 to 11 from top to bottom).\n",
    "\n",
    "During the execution, qubit $x_0$ remains unentangled from the other qubits. It can therefore be removed from the optical implementation.\n",
    "\n",
    "The qubits $x_1, x_2, f_1, f_2$ are path encoded as modes $(1, 2)$, $(3, 4)$, $(7, 8)$, $(9, 10)$ respectively. The four remaining modes are used as auxiliary modes to implement the $\\mathsf{CZ}$ gates.\n",
    "\n",
    "With path encoding each $\\mathsf{H}$ gate in the quantum circuit is implemented with a beam splitter with reflectivity $R=1/2$ between the two pathes corresponding to the qubit. In our implementation in Perceval, phase shifters are added to properly tune the phase between each path.\n",
    "\n",
    "$\\mathsf{CZ}$ gates are implemented with three beam splitters with reflectivity $R=1/3$ acting on six modes: one inner BS creates interference between the two qubits, and two outer BS balance detection probability using auxiliary modes.\n",
    "This optical implementation succesfully yields the output state produced by a $\\mathsf{CZ}$ gate with probability 1/9; otherwise it creates a dummy state, which can be removed by post-selection.\n",
    "\n",
    "In the case $r=4$ the QFT can be performed classically and doesn't need to be implemented in the photonic circuit."
   ]
  },
  {
   "cell_type": "markdown",
   "id": "3acb2273",
   "metadata": {},
   "source": [
    "## In perceval"
   ]
  },
  {
   "cell_type": "code",
   "execution_count": 6,
   "id": "2fe3a053",
   "metadata": {},
   "outputs": [],
   "source": [
    "circ = pcvl.Circuit(12)\n",
    "\n",
    "# qubit modes\n",
    "# for qubit states 0, 1\n",
    "x1 = [1, 2]\n",
    "f1 = [3, 4]\n",
    "x2 = [7, 8]\n",
    "f2 = [9, 10]\n",
    "# auxiliary modes\n",
    "am1 = [0, 5]\n",
    "am2 = [6, 11]\n",
    "\n",
    "# H gates\n",
    "for q in [x1, x2]:\n",
    "    circ.add(q, phys.BS())\n",
    "\n",
    "# CX gates\n",
    "for x, f, am in [(x1, f1, am1), (x2, f2, am2)]:\n",
    "    circ.add((am[0], x[0]), phys.BS(theta=np.arccos(1/np.sqrt(3)),\n",
    "                                    phi_a=sp.pi, phi_d=0))\n",
    "    circ.add((f[0], f[1]), phys.BS())\n",
    "    circ.add((x[1], f[0]), phys.BS(theta=np.arccos(1/np.sqrt(3)),\n",
    "                                    phi_a=sp.pi, phi_d=0))\n",
    "    circ.add((f[1], am[1]), phys.BS(theta=np.arccos(1/np.sqrt(3))))\n",
    "    circ.add((f[0], f[1]), phys.BS())"
   ]
  },
  {
   "cell_type": "code",
   "execution_count": 7,
   "id": "034d5e45",
   "metadata": {
    "scrolled": false
   },
   "outputs": [
    {
     "name": "stdout",
     "output_type": "stream",
     "text": [
      "Optical circuit for Shor's algorithm\n"
     ]
    },
    {
     "data": {
      "text/html": [
       "<svg width='362.000000' height='650.000000' viewBox='-6.000000 0.000000 356.000000 650.000000'><path d=\"M 10 25 L 25 25\" fill=\"none\" stroke=\"darkred\" stroke-width=\"3.000000\" stroke-linejoin=\"miter\"/>\n",
       "<text x=\"0.000000\" y=\"25.000000\" font-size=\"6.000000\" text-anchor=\"start\">0</text>\n",
       "<path d=\"M 10 75 L 25 75\" fill=\"none\" stroke=\"darkred\" stroke-width=\"3.000000\" stroke-linejoin=\"miter\"/>\n",
       "<text x=\"0.000000\" y=\"75.000000\" font-size=\"6.000000\" text-anchor=\"start\">1</text>\n",
       "<path d=\"M 10 125 L 25 125\" fill=\"none\" stroke=\"darkred\" stroke-width=\"3.000000\" stroke-linejoin=\"miter\"/>\n",
       "<text x=\"0.000000\" y=\"125.000000\" font-size=\"6.000000\" text-anchor=\"start\">2</text>\n",
       "<path d=\"M 10 175 L 25 175\" fill=\"none\" stroke=\"darkred\" stroke-width=\"3.000000\" stroke-linejoin=\"miter\"/>\n",
       "<text x=\"0.000000\" y=\"175.000000\" font-size=\"6.000000\" text-anchor=\"start\">3</text>\n",
       "<path d=\"M 10 225 L 25 225\" fill=\"none\" stroke=\"darkred\" stroke-width=\"3.000000\" stroke-linejoin=\"miter\"/>\n",
       "<text x=\"0.000000\" y=\"225.000000\" font-size=\"6.000000\" text-anchor=\"start\">4</text>\n",
       "<path d=\"M 10 275 L 25 275\" fill=\"none\" stroke=\"darkred\" stroke-width=\"3.000000\" stroke-linejoin=\"miter\"/>\n",
       "<text x=\"0.000000\" y=\"275.000000\" font-size=\"6.000000\" text-anchor=\"start\">5</text>\n",
       "<path d=\"M 10 325 L 25 325\" fill=\"none\" stroke=\"darkred\" stroke-width=\"3.000000\" stroke-linejoin=\"miter\"/>\n",
       "<text x=\"0.000000\" y=\"325.000000\" font-size=\"6.000000\" text-anchor=\"start\">6</text>\n",
       "<path d=\"M 10 375 L 25 375\" fill=\"none\" stroke=\"darkred\" stroke-width=\"3.000000\" stroke-linejoin=\"miter\"/>\n",
       "<text x=\"0.000000\" y=\"375.000000\" font-size=\"6.000000\" text-anchor=\"start\">7</text>\n",
       "<path d=\"M 10 425 L 25 425\" fill=\"none\" stroke=\"darkred\" stroke-width=\"3.000000\" stroke-linejoin=\"miter\"/>\n",
       "<text x=\"0.000000\" y=\"425.000000\" font-size=\"6.000000\" text-anchor=\"start\">8</text>\n",
       "<path d=\"M 10 475 L 25 475\" fill=\"none\" stroke=\"darkred\" stroke-width=\"3.000000\" stroke-linejoin=\"miter\"/>\n",
       "<text x=\"0.000000\" y=\"475.000000\" font-size=\"6.000000\" text-anchor=\"start\">9</text>\n",
       "<path d=\"M 10 525 L 25 525\" fill=\"none\" stroke=\"darkred\" stroke-width=\"3.000000\" stroke-linejoin=\"miter\"/>\n",
       "<text x=\"0.000000\" y=\"525.000000\" font-size=\"6.000000\" text-anchor=\"start\">10</text>\n",
       "<path d=\"M 10 575 L 25 575\" fill=\"none\" stroke=\"darkred\" stroke-width=\"3.000000\" stroke-linejoin=\"miter\"/>\n",
       "<text x=\"0.000000\" y=\"575.000000\" font-size=\"6.000000\" text-anchor=\"start\">11</text>\n",
       "<polyline points=\"25 75 53 75 72 94\" fill=\"transparent\"stroke=\"darkred\" stroke-width=\"3.000000\" stroke-linejoin=\"round\" />\n",
       "<polyline points=\"78 94 97 75 125 75\" fill=\"transparent\"stroke=\"darkred\" stroke-width=\"3.000000\" stroke-linejoin=\"round\" />\n",
       "<polyline points=\"25 125 53 125 72 106\" fill=\"transparent\"stroke=\"darkred\" stroke-width=\"3.000000\" stroke-linejoin=\"round\" />\n",
       "<polyline points=\"78 106 97 125 125 125\" fill=\"transparent\"stroke=\"darkred\" stroke-width=\"3.000000\" stroke-linejoin=\"round\" />\n",
       "<polyline points=\"50 93 100 93 100 107 50 107 50 93\" fill=\"black\" stroke=\"black\" stroke-width=\"1.000000\" stroke_linejoin=\"miter\" />\n",
       "<text x=\"75.000000\" y=\"136.000000\" font-size=\"7.000000\" text-anchor=\"middle\"></text>\n",
       "<text x=\"75.000000\" y=\"76.000000\" font-size=\"7.000000\" text-anchor=\"middle\"></text>\n",
       "<polyline points=\"50 93 100 93 100 97 50 97 50 93\" fill=\"lightgray\" stroke=\"black\" stroke-width=\"1.000000\" stroke_linejoin=\"miter\" />\n",
       "<polyline points=\"25 375 53 375 72 394\" fill=\"transparent\"stroke=\"darkred\" stroke-width=\"3.000000\" stroke-linejoin=\"round\" />\n",
       "<polyline points=\"78 394 97 375 125 375\" fill=\"transparent\"stroke=\"darkred\" stroke-width=\"3.000000\" stroke-linejoin=\"round\" />\n",
       "<polyline points=\"25 425 53 425 72 406\" fill=\"transparent\"stroke=\"darkred\" stroke-width=\"3.000000\" stroke-linejoin=\"round\" />\n",
       "<polyline points=\"78 406 97 425 125 425\" fill=\"transparent\"stroke=\"darkred\" stroke-width=\"3.000000\" stroke-linejoin=\"round\" />\n",
       "<polyline points=\"50 393 100 393 100 407 50 407 50 393\" fill=\"black\" stroke=\"black\" stroke-width=\"1.000000\" stroke_linejoin=\"miter\" />\n",
       "<text x=\"75.000000\" y=\"436.000000\" font-size=\"7.000000\" text-anchor=\"middle\"></text>\n",
       "<text x=\"75.000000\" y=\"376.000000\" font-size=\"7.000000\" text-anchor=\"middle\"></text>\n",
       "<polyline points=\"50 393 100 393 100 397 50 397 50 393\" fill=\"lightgray\" stroke=\"black\" stroke-width=\"1.000000\" stroke_linejoin=\"miter\" />\n",
       "<polyline points=\"25 25 125 25\" fill=\"transparent\"stroke=\"darkred\" stroke-width=\"3.000000\" stroke-linejoin=\"miter\" />\n",
       "<polyline points=\"125 25 153 25 172 44\" fill=\"transparent\"stroke=\"darkred\" stroke-width=\"3.000000\" stroke-linejoin=\"round\" />\n",
       "<polyline points=\"178 44 197 25 225 25\" fill=\"transparent\"stroke=\"darkred\" stroke-width=\"3.000000\" stroke-linejoin=\"round\" />\n",
       "<polyline points=\"125 75 153 75 172 56\" fill=\"transparent\"stroke=\"darkred\" stroke-width=\"3.000000\" stroke-linejoin=\"round\" />\n",
       "<polyline points=\"178 56 197 75 225 75\" fill=\"transparent\"stroke=\"darkred\" stroke-width=\"3.000000\" stroke-linejoin=\"round\" />\n",
       "<polyline points=\"150 43 200 43 200 57 150 57 150 43\" fill=\"black\" stroke=\"black\" stroke-width=\"1.000000\" stroke_linejoin=\"miter\" />\n",
       "<text x=\"175.000000\" y=\"86.000000\" font-size=\"7.000000\" text-anchor=\"middle\">phi_a=pi, phi_d=0</text>\n",
       "<text x=\"175.000000\" y=\"26.000000\" font-size=\"7.000000\" text-anchor=\"middle\">theta=0.955317</text>\n",
       "<polyline points=\"150 43 200 43 200 47 150 47 150 43\" fill=\"lightgray\" stroke=\"black\" stroke-width=\"1.000000\" stroke_linejoin=\"miter\" />\n",
       "<polyline points=\"25 175 53 175 72 194\" fill=\"transparent\"stroke=\"darkred\" stroke-width=\"3.000000\" stroke-linejoin=\"round\" />\n",
       "<polyline points=\"78 194 97 175 125 175\" fill=\"transparent\"stroke=\"darkred\" stroke-width=\"3.000000\" stroke-linejoin=\"round\" />\n",
       "<polyline points=\"25 225 53 225 72 206\" fill=\"transparent\"stroke=\"darkred\" stroke-width=\"3.000000\" stroke-linejoin=\"round\" />\n",
       "<polyline points=\"78 206 97 225 125 225\" fill=\"transparent\"stroke=\"darkred\" stroke-width=\"3.000000\" stroke-linejoin=\"round\" />\n",
       "<polyline points=\"50 193 100 193 100 207 50 207 50 193\" fill=\"black\" stroke=\"black\" stroke-width=\"1.000000\" stroke_linejoin=\"miter\" />\n",
       "<text x=\"75.000000\" y=\"236.000000\" font-size=\"7.000000\" text-anchor=\"middle\"></text>\n",
       "<text x=\"75.000000\" y=\"176.000000\" font-size=\"7.000000\" text-anchor=\"middle\"></text>\n",
       "<polyline points=\"50 193 100 193 100 197 50 197 50 193\" fill=\"lightgray\" stroke=\"black\" stroke-width=\"1.000000\" stroke_linejoin=\"miter\" />\n",
       "<polyline points=\"125 125 153 125 172 144\" fill=\"transparent\"stroke=\"darkred\" stroke-width=\"3.000000\" stroke-linejoin=\"round\" />\n",
       "<polyline points=\"178 144 197 125 225 125\" fill=\"transparent\"stroke=\"darkred\" stroke-width=\"3.000000\" stroke-linejoin=\"round\" />\n",
       "<polyline points=\"125 175 153 175 172 156\" fill=\"transparent\"stroke=\"darkred\" stroke-width=\"3.000000\" stroke-linejoin=\"round\" />\n",
       "<polyline points=\"178 156 197 175 225 175\" fill=\"transparent\"stroke=\"darkred\" stroke-width=\"3.000000\" stroke-linejoin=\"round\" />\n",
       "<polyline points=\"150 143 200 143 200 157 150 157 150 143\" fill=\"black\" stroke=\"black\" stroke-width=\"1.000000\" stroke_linejoin=\"miter\" />\n",
       "<text x=\"175.000000\" y=\"186.000000\" font-size=\"7.000000\" text-anchor=\"middle\">phi_a=pi, phi_d=0</text>\n",
       "<text x=\"175.000000\" y=\"126.000000\" font-size=\"7.000000\" text-anchor=\"middle\">theta=0.955317</text>\n",
       "<polyline points=\"150 143 200 143 200 147 150 147 150 143\" fill=\"lightgray\" stroke=\"black\" stroke-width=\"1.000000\" stroke_linejoin=\"miter\" />\n",
       "<polyline points=\"25 275 125 275\" fill=\"transparent\"stroke=\"darkred\" stroke-width=\"3.000000\" stroke-linejoin=\"miter\" />\n",
       "<polyline points=\"125 225 153 225 172 244\" fill=\"transparent\"stroke=\"darkred\" stroke-width=\"3.000000\" stroke-linejoin=\"round\" />\n",
       "<polyline points=\"178 244 197 225 225 225\" fill=\"transparent\"stroke=\"darkred\" stroke-width=\"3.000000\" stroke-linejoin=\"round\" />\n",
       "<polyline points=\"125 275 153 275 172 256\" fill=\"transparent\"stroke=\"darkred\" stroke-width=\"3.000000\" stroke-linejoin=\"round\" />\n",
       "<polyline points=\"178 256 197 275 225 275\" fill=\"transparent\"stroke=\"darkred\" stroke-width=\"3.000000\" stroke-linejoin=\"round\" />\n",
       "<polyline points=\"150 243 200 243 200 257 150 257 150 243\" fill=\"black\" stroke=\"black\" stroke-width=\"1.000000\" stroke_linejoin=\"miter\" />\n",
       "<text x=\"175.000000\" y=\"286.000000\" font-size=\"7.000000\" text-anchor=\"middle\"></text>\n",
       "<text x=\"175.000000\" y=\"226.000000\" font-size=\"7.000000\" text-anchor=\"middle\">theta=0.955317</text>\n",
       "<polyline points=\"150 243 200 243 200 247 150 247 150 243\" fill=\"lightgray\" stroke=\"black\" stroke-width=\"1.000000\" stroke_linejoin=\"miter\" />\n",
       "<polyline points=\"225 175 253 175 272 194\" fill=\"transparent\"stroke=\"darkred\" stroke-width=\"3.000000\" stroke-linejoin=\"round\" />\n",
       "<polyline points=\"278 194 297 175 325 175\" fill=\"transparent\"stroke=\"darkred\" stroke-width=\"3.000000\" stroke-linejoin=\"round\" />\n",
       "<polyline points=\"225 225 253 225 272 206\" fill=\"transparent\"stroke=\"darkred\" stroke-width=\"3.000000\" stroke-linejoin=\"round\" />\n",
       "<polyline points=\"278 206 297 225 325 225\" fill=\"transparent\"stroke=\"darkred\" stroke-width=\"3.000000\" stroke-linejoin=\"round\" />\n",
       "<polyline points=\"250 193 300 193 300 207 250 207 250 193\" fill=\"black\" stroke=\"black\" stroke-width=\"1.000000\" stroke_linejoin=\"miter\" />\n",
       "<text x=\"275.000000\" y=\"236.000000\" font-size=\"7.000000\" text-anchor=\"middle\"></text>\n",
       "<text x=\"275.000000\" y=\"176.000000\" font-size=\"7.000000\" text-anchor=\"middle\"></text>\n",
       "<polyline points=\"250 193 300 193 300 197 250 197 250 193\" fill=\"lightgray\" stroke=\"black\" stroke-width=\"1.000000\" stroke_linejoin=\"miter\" />\n",
       "<polyline points=\"25 325 125 325\" fill=\"transparent\"stroke=\"darkred\" stroke-width=\"3.000000\" stroke-linejoin=\"miter\" />\n",
       "<polyline points=\"125 325 153 325 172 344\" fill=\"transparent\"stroke=\"darkred\" stroke-width=\"3.000000\" stroke-linejoin=\"round\" />\n",
       "<polyline points=\"178 344 197 325 225 325\" fill=\"transparent\"stroke=\"darkred\" stroke-width=\"3.000000\" stroke-linejoin=\"round\" />\n",
       "<polyline points=\"125 375 153 375 172 356\" fill=\"transparent\"stroke=\"darkred\" stroke-width=\"3.000000\" stroke-linejoin=\"round\" />\n",
       "<polyline points=\"178 356 197 375 225 375\" fill=\"transparent\"stroke=\"darkred\" stroke-width=\"3.000000\" stroke-linejoin=\"round\" />\n",
       "<polyline points=\"150 343 200 343 200 357 150 357 150 343\" fill=\"black\" stroke=\"black\" stroke-width=\"1.000000\" stroke_linejoin=\"miter\" />\n",
       "<text x=\"175.000000\" y=\"386.000000\" font-size=\"7.000000\" text-anchor=\"middle\">phi_a=pi, phi_d=0</text>\n",
       "<text x=\"175.000000\" y=\"326.000000\" font-size=\"7.000000\" text-anchor=\"middle\">theta=0.955317</text>\n",
       "<polyline points=\"150 343 200 343 200 347 150 347 150 343\" fill=\"lightgray\" stroke=\"black\" stroke-width=\"1.000000\" stroke_linejoin=\"miter\" />\n",
       "<polyline points=\"25 475 53 475 72 494\" fill=\"transparent\"stroke=\"darkred\" stroke-width=\"3.000000\" stroke-linejoin=\"round\" />\n",
       "<polyline points=\"78 494 97 475 125 475\" fill=\"transparent\"stroke=\"darkred\" stroke-width=\"3.000000\" stroke-linejoin=\"round\" />\n",
       "<polyline points=\"25 525 53 525 72 506\" fill=\"transparent\"stroke=\"darkred\" stroke-width=\"3.000000\" stroke-linejoin=\"round\" />\n",
       "<polyline points=\"78 506 97 525 125 525\" fill=\"transparent\"stroke=\"darkred\" stroke-width=\"3.000000\" stroke-linejoin=\"round\" />\n",
       "<polyline points=\"50 493 100 493 100 507 50 507 50 493\" fill=\"black\" stroke=\"black\" stroke-width=\"1.000000\" stroke_linejoin=\"miter\" />\n",
       "<text x=\"75.000000\" y=\"536.000000\" font-size=\"7.000000\" text-anchor=\"middle\"></text>\n",
       "<text x=\"75.000000\" y=\"476.000000\" font-size=\"7.000000\" text-anchor=\"middle\"></text>\n",
       "<polyline points=\"50 493 100 493 100 497 50 497 50 493\" fill=\"lightgray\" stroke=\"black\" stroke-width=\"1.000000\" stroke_linejoin=\"miter\" />\n",
       "<polyline points=\"125 425 153 425 172 444\" fill=\"transparent\"stroke=\"darkred\" stroke-width=\"3.000000\" stroke-linejoin=\"round\" />\n",
       "<polyline points=\"178 444 197 425 225 425\" fill=\"transparent\"stroke=\"darkred\" stroke-width=\"3.000000\" stroke-linejoin=\"round\" />\n",
       "<polyline points=\"125 475 153 475 172 456\" fill=\"transparent\"stroke=\"darkred\" stroke-width=\"3.000000\" stroke-linejoin=\"round\" />\n",
       "<polyline points=\"178 456 197 475 225 475\" fill=\"transparent\"stroke=\"darkred\" stroke-width=\"3.000000\" stroke-linejoin=\"round\" />\n",
       "<polyline points=\"150 443 200 443 200 457 150 457 150 443\" fill=\"black\" stroke=\"black\" stroke-width=\"1.000000\" stroke_linejoin=\"miter\" />\n",
       "<text x=\"175.000000\" y=\"486.000000\" font-size=\"7.000000\" text-anchor=\"middle\">phi_a=pi, phi_d=0</text>\n",
       "<text x=\"175.000000\" y=\"426.000000\" font-size=\"7.000000\" text-anchor=\"middle\">theta=0.955317</text>\n",
       "<polyline points=\"150 443 200 443 200 447 150 447 150 443\" fill=\"lightgray\" stroke=\"black\" stroke-width=\"1.000000\" stroke_linejoin=\"miter\" />\n",
       "<polyline points=\"25 575 125 575\" fill=\"transparent\"stroke=\"darkred\" stroke-width=\"3.000000\" stroke-linejoin=\"miter\" />\n",
       "<polyline points=\"125 525 153 525 172 544\" fill=\"transparent\"stroke=\"darkred\" stroke-width=\"3.000000\" stroke-linejoin=\"round\" />\n",
       "<polyline points=\"178 544 197 525 225 525\" fill=\"transparent\"stroke=\"darkred\" stroke-width=\"3.000000\" stroke-linejoin=\"round\" />\n",
       "<polyline points=\"125 575 153 575 172 556\" fill=\"transparent\"stroke=\"darkred\" stroke-width=\"3.000000\" stroke-linejoin=\"round\" />\n",
       "<polyline points=\"178 556 197 575 225 575\" fill=\"transparent\"stroke=\"darkred\" stroke-width=\"3.000000\" stroke-linejoin=\"round\" />\n",
       "<polyline points=\"150 543 200 543 200 557 150 557 150 543\" fill=\"black\" stroke=\"black\" stroke-width=\"1.000000\" stroke_linejoin=\"miter\" />\n",
       "<text x=\"175.000000\" y=\"586.000000\" font-size=\"7.000000\" text-anchor=\"middle\"></text>\n",
       "<text x=\"175.000000\" y=\"526.000000\" font-size=\"7.000000\" text-anchor=\"middle\">theta=0.955317</text>\n",
       "<polyline points=\"150 543 200 543 200 547 150 547 150 543\" fill=\"lightgray\" stroke=\"black\" stroke-width=\"1.000000\" stroke_linejoin=\"miter\" />\n",
       "<polyline points=\"225 475 253 475 272 494\" fill=\"transparent\"stroke=\"darkred\" stroke-width=\"3.000000\" stroke-linejoin=\"round\" />\n",
       "<polyline points=\"278 494 297 475 325 475\" fill=\"transparent\"stroke=\"darkred\" stroke-width=\"3.000000\" stroke-linejoin=\"round\" />\n",
       "<polyline points=\"225 525 253 525 272 506\" fill=\"transparent\"stroke=\"darkred\" stroke-width=\"3.000000\" stroke-linejoin=\"round\" />\n",
       "<polyline points=\"278 506 297 525 325 525\" fill=\"transparent\"stroke=\"darkred\" stroke-width=\"3.000000\" stroke-linejoin=\"round\" />\n",
       "<polyline points=\"250 493 300 493 300 507 250 507 250 493\" fill=\"black\" stroke=\"black\" stroke-width=\"1.000000\" stroke_linejoin=\"miter\" />\n",
       "<text x=\"275.000000\" y=\"536.000000\" font-size=\"7.000000\" text-anchor=\"middle\"></text>\n",
       "<text x=\"275.000000\" y=\"476.000000\" font-size=\"7.000000\" text-anchor=\"middle\"></text>\n",
       "<polyline points=\"250 493 300 493 300 497 250 497 250 493\" fill=\"lightgray\" stroke=\"black\" stroke-width=\"1.000000\" stroke_linejoin=\"miter\" />\n",
       "<polyline points=\"225 25 325 25\" fill=\"transparent\"stroke=\"darkred\" stroke-width=\"3.000000\" stroke-linejoin=\"miter\" />\n",
       "<polyline points=\"225 75 325 75\" fill=\"transparent\"stroke=\"darkred\" stroke-width=\"3.000000\" stroke-linejoin=\"miter\" />\n",
       "<polyline points=\"225 125 325 125\" fill=\"transparent\"stroke=\"darkred\" stroke-width=\"3.000000\" stroke-linejoin=\"miter\" />\n",
       "<polyline points=\"225 275 325 275\" fill=\"transparent\"stroke=\"darkred\" stroke-width=\"3.000000\" stroke-linejoin=\"miter\" />\n",
       "<polyline points=\"225 325 325 325\" fill=\"transparent\"stroke=\"darkred\" stroke-width=\"3.000000\" stroke-linejoin=\"miter\" />\n",
       "<polyline points=\"225 375 325 375\" fill=\"transparent\"stroke=\"darkred\" stroke-width=\"3.000000\" stroke-linejoin=\"miter\" />\n",
       "<polyline points=\"225 425 325 425\" fill=\"transparent\"stroke=\"darkred\" stroke-width=\"3.000000\" stroke-linejoin=\"miter\" />\n",
       "<polyline points=\"225 575 325 575\" fill=\"transparent\"stroke=\"darkred\" stroke-width=\"3.000000\" stroke-linejoin=\"miter\" />\n",
       "<path d=\"M 325 25 L 340 25\" fill=\"none\" stroke=\"darkred\" stroke-width=\"3.000000\" stroke-linejoin=\"miter\"/>\n",
       "<text x=\"350.000000\" y=\"25.000000\" font-size=\"6.000000\" text-anchor=\"end\">0</text>\n",
       "<path d=\"M 325 75 L 340 75\" fill=\"none\" stroke=\"darkred\" stroke-width=\"3.000000\" stroke-linejoin=\"miter\"/>\n",
       "<text x=\"350.000000\" y=\"75.000000\" font-size=\"6.000000\" text-anchor=\"end\">1</text>\n",
       "<path d=\"M 325 125 L 340 125\" fill=\"none\" stroke=\"darkred\" stroke-width=\"3.000000\" stroke-linejoin=\"miter\"/>\n",
       "<text x=\"350.000000\" y=\"125.000000\" font-size=\"6.000000\" text-anchor=\"end\">2</text>\n",
       "<path d=\"M 325 175 L 340 175\" fill=\"none\" stroke=\"darkred\" stroke-width=\"3.000000\" stroke-linejoin=\"miter\"/>\n",
       "<text x=\"350.000000\" y=\"175.000000\" font-size=\"6.000000\" text-anchor=\"end\">3</text>\n",
       "<path d=\"M 325 225 L 340 225\" fill=\"none\" stroke=\"darkred\" stroke-width=\"3.000000\" stroke-linejoin=\"miter\"/>\n",
       "<text x=\"350.000000\" y=\"225.000000\" font-size=\"6.000000\" text-anchor=\"end\">4</text>\n",
       "<path d=\"M 325 275 L 340 275\" fill=\"none\" stroke=\"darkred\" stroke-width=\"3.000000\" stroke-linejoin=\"miter\"/>\n",
       "<text x=\"350.000000\" y=\"275.000000\" font-size=\"6.000000\" text-anchor=\"end\">5</text>\n",
       "<path d=\"M 325 325 L 340 325\" fill=\"none\" stroke=\"darkred\" stroke-width=\"3.000000\" stroke-linejoin=\"miter\"/>\n",
       "<text x=\"350.000000\" y=\"325.000000\" font-size=\"6.000000\" text-anchor=\"end\">6</text>\n",
       "<path d=\"M 325 375 L 340 375\" fill=\"none\" stroke=\"darkred\" stroke-width=\"3.000000\" stroke-linejoin=\"miter\"/>\n",
       "<text x=\"350.000000\" y=\"375.000000\" font-size=\"6.000000\" text-anchor=\"end\">7</text>\n",
       "<path d=\"M 325 425 L 340 425\" fill=\"none\" stroke=\"darkred\" stroke-width=\"3.000000\" stroke-linejoin=\"miter\"/>\n",
       "<text x=\"350.000000\" y=\"425.000000\" font-size=\"6.000000\" text-anchor=\"end\">8</text>\n",
       "<path d=\"M 325 475 L 340 475\" fill=\"none\" stroke=\"darkred\" stroke-width=\"3.000000\" stroke-linejoin=\"miter\"/>\n",
       "<text x=\"350.000000\" y=\"475.000000\" font-size=\"6.000000\" text-anchor=\"end\">9</text>\n",
       "<path d=\"M 325 525 L 340 525\" fill=\"none\" stroke=\"darkred\" stroke-width=\"3.000000\" stroke-linejoin=\"miter\"/>\n",
       "<text x=\"350.000000\" y=\"525.000000\" font-size=\"6.000000\" text-anchor=\"end\">10</text>\n",
       "<path d=\"M 325 575 L 340 575\" fill=\"none\" stroke=\"darkred\" stroke-width=\"3.000000\" stroke-linejoin=\"miter\"/>\n",
       "<text x=\"350.000000\" y=\"575.000000\" font-size=\"6.000000\" text-anchor=\"end\">11</text></svg>"
      ],
      "text/plain": [
       "<IPython.core.display.HTML object>"
      ]
     },
     "metadata": {},
     "output_type": "display_data"
    }
   ],
   "source": [
    "print(\"Optical circuit for Shor's algorithm\")\n",
    "pcvl.pdisplay(circ)"
   ]
  },
  {
   "cell_type": "code",
   "execution_count": 8,
   "id": "00d193de",
   "metadata": {
    "scrolled": false
   },
   "outputs": [
    {
     "name": "stdout",
     "output_type": "stream",
     "text": [
      "The associated matrix\n"
     ]
    },
    {
     "data": {
      "text/html": [
       "$\\left[\\begin{array}{cccccccccccc}-0.577350269189626 & 0.408248290463863 \\sqrt{2} & 0.408248290463863 \\sqrt{2} & 0 & 0 & 0 & 0 & 0 & 0 & 0 & 0 & 0\\\\0.816496580927726 & 0.288675134594813 \\sqrt{2} & 0.288675134594813 \\sqrt{2} & 0 & 0 & 0 & 0 & 0 & 0 & 0 & 0 & 0\\\\0 & - 0.288675134594813 \\sqrt{2} & 0.288675134594813 \\sqrt{2} & 0.408248290463863 \\sqrt{2} & 0.408248290463863 \\sqrt{2} & 0 & 0 & 0 & 0 & 0 & 0 & 0\\\\0 & 0.408248290463863 & -0.408248290463863 & 0.577350269189626 & 0 & 0.408248290463863 \\sqrt{2} & 0 & 0 & 0 & 0 & 0 & 0\\\\0 & 0.408248290463863 & -0.408248290463863 & 0 & 0.577350269189626 & - 0.408248290463863 \\sqrt{2} & 0 & 0 & 0 & 0 & 0 & 0\\\\0 & 0 & 0 & 0.408248290463863 \\sqrt{2} & - 0.408248290463863 \\sqrt{2} & -0.577350269189626 & 0 & 0 & 0 & 0 & 0 & 0\\\\0 & 0 & 0 & 0 & 0 & 0 & -0.577350269189626 & 0.408248290463863 \\sqrt{2} & 0.408248290463863 \\sqrt{2} & 0 & 0 & 0\\\\0 & 0 & 0 & 0 & 0 & 0 & 0.816496580927726 & 0.288675134594813 \\sqrt{2} & 0.288675134594813 \\sqrt{2} & 0 & 0 & 0\\\\0 & 0 & 0 & 0 & 0 & 0 & 0 & - 0.288675134594813 \\sqrt{2} & 0.288675134594813 \\sqrt{2} & 0.408248290463863 \\sqrt{2} & 0.408248290463863 \\sqrt{2} & 0\\\\0 & 0 & 0 & 0 & 0 & 0 & 0 & 0.408248290463863 & -0.408248290463863 & 0.577350269189626 & 0 & 0.408248290463863 \\sqrt{2}\\\\0 & 0 & 0 & 0 & 0 & 0 & 0 & 0.408248290463863 & -0.408248290463863 & 0 & 0.577350269189626 & - 0.408248290463863 \\sqrt{2}\\\\0 & 0 & 0 & 0 & 0 & 0 & 0 & 0 & 0 & 0.408248290463863 \\sqrt{2} & - 0.408248290463863 \\sqrt{2} & -0.577350269189626\\end{array}\\right]$"
      ],
      "text/plain": [
       "<IPython.core.display.HTML object>"
      ]
     },
     "metadata": {},
     "output_type": "display_data"
    }
   ],
   "source": [
    "print(\"The associated matrix\")\n",
    "pcvl.pdisplay(circ.U)"
   ]
  },
  {
   "cell_type": "markdown",
   "id": "7bdc227b",
   "metadata": {},
   "source": [
    "### Input state"
   ]
  },
  {
   "cell_type": "markdown",
   "id": "4e1ced97",
   "metadata": {},
   "source": [
    "In the preliminaries we provided functions to map qubit states to the corresponding Fock states and vice-versa.\n",
    "\n",
    "A *computational basis qubit state* on qubits $x_1, f_1, x_2, f_2$ is represented with a list of 4 boolean values.\n",
    "\n",
    "A *Fock state* is represented with a list of twelve integer values.\n",
    "As described above, for Fock states, the modes are enumerated as follows:\n",
    "* mode pairs $(1,2), (3,4), (7,8), (9,10)$ respectively correspond to states $0,1$ for qubits $x_1, f_1, x_2, f_2$\n",
    "* modes $0,5,6,11$ are auxiliary modes used for CZ gates"
   ]
  },
  {
   "cell_type": "markdown",
   "id": "51d9eca7",
   "metadata": {},
   "source": [
    "The input state of the circuit is $|0\\rangle_{x_1}|0\\rangle_{x_2}|0\\rangle_{f_1}|1\\rangle_{f_2}$.\n",
    "With path encoding this corresponds to sending 4 photons in total in the optical circuit, in the input modes corresponding to the inital state of each qubit."
   ]
  },
  {
   "cell_type": "code",
   "execution_count": 9,
   "id": "79f7ca45",
   "metadata": {
    "scrolled": false
   },
   "outputs": [
    {
     "name": "stdout",
     "output_type": "stream",
     "text": [
      "Input qubit state: |0,0,0,1>\n",
      "Corresponding input Fock state: |0,1,0,1,0,0,0,1,0,0,1,0>\n"
     ]
    }
   ],
   "source": [
    "qubit_istate = [0,0,0,1]\n",
    "istate = toFockState(qubit_istate)\n",
    "\n",
    "print(\"Input qubit state:\", strState(qubit_istate))\n",
    "print(\"Corresponding input Fock state:\", strState(istate))"
   ]
  },
  {
   "cell_type": "markdown",
   "id": "d3f88c02",
   "metadata": {},
   "source": [
    "## Simulation"
   ]
  },
  {
   "cell_type": "code",
   "execution_count": 10,
   "id": "ca10ff5e",
   "metadata": {},
   "outputs": [],
   "source": [
    "backend = pcvl.BackendFactory().get_backend(\"Naive\")\n",
    "simulator = backend(circ)"
   ]
  },
  {
   "cell_type": "markdown",
   "id": "e81a4f44",
   "metadata": {},
   "source": [
    "### Computing the output state"
   ]
  },
  {
   "cell_type": "markdown",
   "id": "c4e62d76",
   "metadata": {},
   "source": [
    "Using perceval we compute the output state obtained with the optical circuit."
   ]
  },
  {
   "cell_type": "markdown",
   "id": "2f3e6f17",
   "metadata": {},
   "source": [
    "#### Amplitudes\n",
    "\n",
    "We first decompose the output state in the computational basis and plot the corresponding amplitudes."
   ]
  },
  {
   "cell_type": "code",
   "execution_count": 11,
   "id": "0cd16853",
   "metadata": {
    "scrolled": false
   },
   "outputs": [
    {
     "name": "stdout",
     "output_type": "stream",
     "text": [
      "Output state amplitudes: (post-selected on qubit states, not renormalized)\n",
      "|x1,x2,f1,f2>\n",
      "|0,0,0,0> (1.734723475976807e-18+3.4017966642982055e-18j)\n",
      "|0,0,0,1> (0.05555555555555558-1.3607186657192822e-17j)\n",
      "|0,0,1,0> -3.851859888774472e-34j\n",
      "|0,0,1,1> (-3.686287386450715e-18+3.4017966642982047e-18j)\n",
      "|0,1,0,0> (0.05555555555555558-2.0410779985789228e-17j)\n",
      "|0,1,0,1> (8.673617379884035e-18+3.4017966642982124e-18j)\n",
      "|0,1,1,0> (-3.469446951953614e-18+3.4017966642982066e-18j)\n",
      "|0,1,1,1> -1.5407439555097887e-33j\n",
      "|1,0,0,0> (1.3010426069826053e-18+5.7777898331617076e-34j)\n",
      "|1,0,0,1> (1.734723475976807e-18+3.4017966642982078e-18j)\n",
      "|1,0,1,0> (-1.3010426069826053e-18+3.4017966642982063e-18j)\n",
      "|1,0,1,1> (0.05555555555555558-1.360718665719282e-17j)\n",
      "|1,1,0,0> (1.734723475976807e-18+3.4017966642982055e-18j)\n",
      "|1,1,0,1> (-8.673617379884035e-19+2.311115933264683e-33j)\n",
      "|1,1,1,0> (0.05555555555555559-2.0410779985789225e-17j)\n",
      "|1,1,1,1> (6.071532165918825e-18+3.4017966642982063e-18j)\n"
     ]
    }
   ],
   "source": [
    "output_qubit_states = [\n",
    "    [x1,x2,f1,f2]\n",
    "    for x1 in [0,1] for x2 in [0,1] for f1 in [0,1] for f2 in [0,1]\n",
    "]\n",
    "\n",
    "print(\"Output state amplitudes: (post-selected on qubit states, not renormalized)\")\n",
    "print(\"|x1,x2,f1,f2>\")\n",
    "for oqstate in output_qubit_states:\n",
    "    ostate = toFockState(oqstate)\n",
    "    a = simulator.probampli(pcvl.BasicState(pcvl.BasicState(istate)), pcvl.BasicState(ostate))\n",
    "    print(strState(oqstate), a)"
   ]
  },
  {
   "cell_type": "markdown",
   "id": "43e94f97",
   "metadata": {},
   "source": [
    "The amplitudes obtained with perceval correspond to the expected output state\n",
    "$$\\frac{1}{2} \\left ( |0\\rangle_{x_1}|0\\rangle_{f_1} + |1\\rangle_{x_1}|1\\rangle_{f_1} \\right ) \\otimes \\left ( |0\\rangle_{x_2}|1\\rangle_{f_2} + |1\\rangle_{x_2}|0\\rangle_{f_2} \\right )$$\n",
    "up to numerical precision, without renormalization."
   ]
  },
  {
   "cell_type": "markdown",
   "id": "300664ac",
   "metadata": {},
   "source": [
    "#### Distribution\n",
    "\n",
    "We now compute the probabilities to obtain each outcome corresponding to measuring the expected output state in the computational basis."
   ]
  },
  {
   "cell_type": "code",
   "execution_count": 12,
   "id": "2277ec12",
   "metadata": {
    "scrolled": false
   },
   "outputs": [
    {
     "name": "stdout",
     "output_type": "stream",
     "text": [
      "Output state distribution: (post-selected on expected qubit states, not renormalized)\n",
      "|x1,x2,f1,f2>\n"
     ]
    },
    {
     "data": {
      "text/html": [
       "<table>\n",
       "<thead>\n",
       "<tr><th>         </th><th style=\"text-align: right;\">  |0,0,0,1&gt;</th><th style=\"text-align: right;\">  |0,1,0,0&gt;</th><th style=\"text-align: right;\">  |1,0,1,1&gt;</th><th style=\"text-align: right;\">  |1,1,1,0&gt;</th></tr>\n",
       "</thead>\n",
       "<tbody>\n",
       "<tr><td>|0,0,0,1&gt;</td><td style=\"text-align: right;\">   0.003086</td><td style=\"text-align: right;\">   0.003086</td><td style=\"text-align: right;\">   0.003086</td><td style=\"text-align: right;\">   0.003086</td></tr>\n",
       "</tbody>\n",
       "</table>"
      ],
      "text/plain": [
       "<IPython.core.display.HTML object>"
      ]
     },
     "metadata": {},
     "output_type": "display_data"
    }
   ],
   "source": [
    "input_states = {\n",
    "    pcvl.BasicState(pcvl.BasicState(istate)): strState(qubit_istate)\n",
    "}\n",
    "\n",
    "expected_output_states = {\n",
    "    pcvl.BasicState(toFockState([x1,x2,x1,1-x2])): strState([x1,x2,x1,1-x2])\n",
    "    for x1 in [0,1] for x2 in [0,1]\n",
    "}\n",
    "\n",
    "ca = pcvl.CircuitAnalyser(simulator, input_states, expected_output_states)\n",
    "ca.compute()\n",
    "\n",
    "print(\"Output state distribution: (post-selected on expected qubit states, not renormalized)\")\n",
    "print(\"|x1,x2,f1,f2>\")\n",
    "pcvl.pdisplay(ca)"
   ]
  },
  {
   "cell_type": "markdown",
   "id": "5e464e2c",
   "metadata": {},
   "source": [
    "The distribution computed with Perceval is uniform over each outcome, which corresponds to the expected distribution obtained in the paper when $x_0 = 0$."
   ]
  },
  {
   "cell_type": "markdown",
   "id": "af369211",
   "metadata": {},
   "source": [
    "### Interpretation of the outcomes\n",
    "\n",
    "For each outcome we consider the values of qubits $x_2, x_1, x_0$ (where $x_0$ is 0) which represent a binary number between 0 and 7, here corresponding to 0, 4, 2 and 6 in the order of the table above.\n",
    "After sampling the circuit, obtainig outcomes 2 or 6 allows to successfully compute the order $r=4$.\n",
    "Obtaining outcome 0 is an expected failure of the quantum circuit, inherent to Shor's algorithm.\n",
    "Outcome 4 is an expected failure as well, as it only allows to compute the trivial factors 1 and 15.\n",
    "\n",
    "Since the distribution is uniform the circuit successfully yields a successful outcome with probability 1/2. This probability can be amplified exponentially close to $1$ by sampling the circuit multiple times."
   ]
  }
 ],
 "metadata": {
  "kernelspec": {
   "display_name": "Python 3 (ipykernel)",
   "language": "python",
   "name": "python3"
  },
  "language_info": {
   "codemirror_mode": {
    "name": "ipython",
    "version": 3
   },
   "file_extension": ".py",
   "mimetype": "text/x-python",
   "name": "python",
   "nbconvert_exporter": "python",
   "pygments_lexer": "ipython3",
   "version": "3.9.11"
  }
 },
 "nbformat": 4,
 "nbformat_minor": 5
}
